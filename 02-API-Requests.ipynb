{
 "cells": [
  {
   "cell_type": "code",
   "execution_count": 10,
   "metadata": {},
   "outputs": [],
   "source": [
    "import pandas as pd\n",
    "import json\n",
    "import urllib\n",
    "import requests\n",
    "import datetime\n",
    "import os.path\n",
    "from os.path import exists\n",
    "\n",
    "from key import key\n",
    "from omdb_scraper import omdb_scraper"
   ]
  },
  {
   "cell_type": "markdown",
   "metadata": {},
   "source": [
    "# API Requests"
   ]
  },
  {
   "cell_type": "markdown",
   "metadata": {},
   "source": [
    "### Read in Data </br>\n",
    "The stripped IMDb data of title codes is brought in. We'll want to do a quick inspection to ensure it's the data we intend to use for passing through the API requests later on."
   ]
  },
  {
   "cell_type": "code",
   "execution_count": 3,
   "metadata": {},
   "outputs": [],
   "source": [
    "id_code = pd.read_csv('./id_code.csv', index_col=0)"
   ]
  },
  {
   "cell_type": "code",
   "execution_count": 4,
   "metadata": {},
   "outputs": [
    {
     "data": {
      "text/plain": [
       "(811998, 1)"
      ]
     },
     "execution_count": 4,
     "metadata": {},
     "output_type": "execute_result"
    }
   ],
   "source": [
    "id_code.shape"
   ]
  },
  {
   "cell_type": "code",
   "execution_count": 5,
   "metadata": {},
   "outputs": [
    {
     "data": {
      "text/html": [
       "<div>\n",
       "<style scoped>\n",
       "    .dataframe tbody tr th:only-of-type {\n",
       "        vertical-align: middle;\n",
       "    }\n",
       "\n",
       "    .dataframe tbody tr th {\n",
       "        vertical-align: top;\n",
       "    }\n",
       "\n",
       "    .dataframe thead th {\n",
       "        text-align: right;\n",
       "    }\n",
       "</style>\n",
       "<table border=\"1\" class=\"dataframe\">\n",
       "  <thead>\n",
       "    <tr style=\"text-align: right;\">\n",
       "      <th></th>\n",
       "      <th>tconst</th>\n",
       "    </tr>\n",
       "  </thead>\n",
       "  <tbody>\n",
       "    <tr>\n",
       "      <th>811997</th>\n",
       "      <td>tt8108152</td>\n",
       "    </tr>\n",
       "    <tr>\n",
       "      <th>811996</th>\n",
       "      <td>tt8106994</td>\n",
       "    </tr>\n",
       "    <tr>\n",
       "      <th>811995</th>\n",
       "      <td>tt8105610</td>\n",
       "    </tr>\n",
       "    <tr>\n",
       "      <th>811994</th>\n",
       "      <td>tt8105202</td>\n",
       "    </tr>\n",
       "    <tr>\n",
       "      <th>811993</th>\n",
       "      <td>tt8104940</td>\n",
       "    </tr>\n",
       "  </tbody>\n",
       "</table>\n",
       "</div>"
      ],
      "text/plain": [
       "           tconst\n",
       "811997  tt8108152\n",
       "811996  tt8106994\n",
       "811995  tt8105610\n",
       "811994  tt8105202\n",
       "811993  tt8104940"
      ]
     },
     "execution_count": 5,
     "metadata": {},
     "output_type": "execute_result"
    }
   ],
   "source": [
    "id_code.head()"
   ]
  },
  {
   "cell_type": "markdown",
   "metadata": {},
   "source": [
    "### Test API Call </br>\n",
    "We'll test the API request to see the format of the outputted data. Then we'll be able to build an appropriate full-scale API caller to iterate through my dataframe containing unique IDs."
   ]
  },
  {
   "cell_type": "code",
   "execution_count": 6,
   "metadata": {},
   "outputs": [
    {
     "data": {
      "text/plain": [
       "{'Actors': 'Emma Stone, Penn Badgley, Amanda Bynes, Dan Byrd',\n",
       " 'Awards': 'Nominated for 1 Golden Globe. Another 9 wins & 20 nominations.',\n",
       " 'BoxOffice': '$58,401,464',\n",
       " 'Country': 'USA',\n",
       " 'DVD': '21 Dec 2010',\n",
       " 'Director': 'Will Gluck',\n",
       " 'Genre': 'Comedy, Drama, Romance',\n",
       " 'Language': 'English',\n",
       " 'Metascore': '72',\n",
       " 'Plot': \"A clean-cut high school student relies on the school's rumor mill to advance her social and financial standing.\",\n",
       " 'Poster': 'https://images-na.ssl-images-amazon.com/images/M/MV5BMjE1MzU1Mjg1OF5BMl5BanBnXkFtZTcwNDc3NDQ2Mw@@._V1_SX300.jpg',\n",
       " 'Production': 'Sony Pictures/Screen Gems',\n",
       " 'Rated': 'PG-13',\n",
       " 'Ratings': [{'Source': 'Internet Movie Database', 'Value': '7.1/10'},\n",
       "  {'Source': 'Rotten Tomatoes', 'Value': '85%'},\n",
       "  {'Source': 'Metacritic', 'Value': '72/100'}],\n",
       " 'Released': '17 Sep 2010',\n",
       " 'Response': 'True',\n",
       " 'Runtime': '92 min',\n",
       " 'Title': 'Easy A',\n",
       " 'Type': 'movie',\n",
       " 'Website': 'http://www.letsnotandsaywedid.com/',\n",
       " 'Writer': 'Bert V. Royal',\n",
       " 'Year': '2010',\n",
       " 'imdbID': 'tt1282140',\n",
       " 'imdbRating': '7.1',\n",
       " 'imdbVotes': '309,658'}"
      ]
     },
     "execution_count": 6,
     "metadata": {},
     "output_type": "execute_result"
    }
   ],
   "source": [
    "response = requests.get('http://www.omdbapi.com/?i=tt1282140&apikey='+key)\n",
    "response.json()\n",
    "\n",
    "json_res = response.json()\n",
    "json_res"
   ]
  },
  {
   "cell_type": "markdown",
   "metadata": {},
   "source": [
    "### Make API Requests </br>\n",
    "Below is a python script I wrote to interact with the OMDb API. Just give it an appropriate DataFrame and it'll do the work for you."
   ]
  },
  {
   "cell_type": "code",
   "execution_count": null,
   "metadata": {},
   "outputs": [],
   "source": [
    "omdb_scraper(id_code)"
   ]
  },
  {
   "cell_type": "markdown",
   "metadata": {},
   "source": [
    "## Next steps </br>\n",
    "Now that a DataFrame of my requests exists with the fields we want, it's time to clean it up. </br></br>\n",
    "Proceed to 03-Pre-Processing to continue."
   ]
  }
 ],
 "metadata": {
  "kernelspec": {
   "display_name": "Python [default]",
   "language": "python",
   "name": "python3"
  },
  "language_info": {
   "codemirror_mode": {
    "name": "ipython",
    "version": 3
   },
   "file_extension": ".py",
   "mimetype": "text/x-python",
   "name": "python",
   "nbconvert_exporter": "python",
   "pygments_lexer": "ipython3",
   "version": "3.6.4"
  }
 },
 "nbformat": 4,
 "nbformat_minor": 2
}
