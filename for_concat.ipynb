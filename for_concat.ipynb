{
 "cells": [
  {
   "cell_type": "code",
   "execution_count": 1,
   "metadata": {},
   "outputs": [],
   "source": [
    "import pandas as pd\n",
    "import json\n",
    "import urllib\n",
    "import requests\n",
    "from pandas.io.json import json_normalize\n",
    "import re\n",
    "%matplotlib inline\n",
    "\n",
    "from key import key"
   ]
  },
  {
   "cell_type": "code",
   "execution_count": 2,
   "metadata": {},
   "outputs": [],
   "source": [
    "imdb_df = pd.read_csv('./title.ratings.tsv',  sep='\\t', header=0)"
   ]
  },
  {
   "cell_type": "code",
   "execution_count": 3,
   "metadata": {},
   "outputs": [],
   "source": [
    "imdb_df = imdb_df.drop(labels=['averageRating', 'numVotes'], axis=1)"
   ]
  },
  {
   "cell_type": "code",
   "execution_count": 4,
   "metadata": {},
   "outputs": [],
   "source": [
    "imdb_df = imdb_df.sort_values(['tconst'], ascending = False)"
   ]
  },
  {
   "cell_type": "code",
   "execution_count": 5,
   "metadata": {},
   "outputs": [
    {
     "data": {
      "text/html": [
       "<div>\n",
       "<style scoped>\n",
       "    .dataframe tbody tr th:only-of-type {\n",
       "        vertical-align: middle;\n",
       "    }\n",
       "\n",
       "    .dataframe tbody tr th {\n",
       "        vertical-align: top;\n",
       "    }\n",
       "\n",
       "    .dataframe thead th {\n",
       "        text-align: right;\n",
       "    }\n",
       "</style>\n",
       "<table border=\"1\" class=\"dataframe\">\n",
       "  <thead>\n",
       "    <tr style=\"text-align: right;\">\n",
       "      <th></th>\n",
       "      <th>tconst</th>\n",
       "    </tr>\n",
       "  </thead>\n",
       "  <tbody>\n",
       "    <tr>\n",
       "      <th>811997</th>\n",
       "      <td>tt8108152</td>\n",
       "    </tr>\n",
       "    <tr>\n",
       "      <th>811996</th>\n",
       "      <td>tt8106994</td>\n",
       "    </tr>\n",
       "    <tr>\n",
       "      <th>811995</th>\n",
       "      <td>tt8105610</td>\n",
       "    </tr>\n",
       "    <tr>\n",
       "      <th>811994</th>\n",
       "      <td>tt8105202</td>\n",
       "    </tr>\n",
       "    <tr>\n",
       "      <th>811993</th>\n",
       "      <td>tt8104940</td>\n",
       "    </tr>\n",
       "  </tbody>\n",
       "</table>\n",
       "</div>"
      ],
      "text/plain": [
       "           tconst\n",
       "811997  tt8108152\n",
       "811996  tt8106994\n",
       "811995  tt8105610\n",
       "811994  tt8105202\n",
       "811993  tt8104940"
      ]
     },
     "execution_count": 5,
     "metadata": {},
     "output_type": "execute_result"
    }
   ],
   "source": [
    "imdb_df.head()"
   ]
  },
  {
   "cell_type": "code",
   "execution_count": null,
   "metadata": {},
   "outputs": [
    {
     "name": "stdout",
     "output_type": "stream",
     "text": [
      "0\n",
      "Call failed at request:  168 524\n",
      "Call failed at request:  216 524\n",
      "Call failed at request:  277 524\n",
      "Call failed at request:  367 524\n",
      "500\n",
      "Call failed at request:  502 524\n",
      "Call failed at request:  507 524\n",
      "Call failed at request:  880 524\n",
      "Call failed at request:  982 524\n",
      "1000\n",
      "Call failed at request:  1245 524\n",
      "Call failed at request:  1284 524\n",
      "1500\n",
      "Call failed at request:  1524 524\n"
     ]
    }
   ],
   "source": [
    "results_list=[]\n",
    "errors_list=[]\n",
    "for num, id in enumerate(imdb_df['tconst'][50001:75000]):    \n",
    "    url = 'http://www.omdbapi.com/?apikey='+key+'&i='+str(id)\n",
    "    response = requests.get(url)\n",
    "    if response.status_code == 200:\n",
    "        results_list.append(response.json())\n",
    "        if num % 500 == 0:\n",
    "            print(num)\n",
    "    else:\n",
    "        print('Call failed at request: ', num, response.status_code)\n",
    "        errors_list.append((num, url, response.status_code))       \n",
    "imdb_data2 = pd.DataFrame(results_list)\n",
    "\n",
    "imdb_data2.shape"
   ]
  },
  {
   "cell_type": "code",
   "execution_count": null,
   "metadata": {},
   "outputs": [],
   "source": []
  }
 ],
 "metadata": {
  "kernelspec": {
   "display_name": "Python [default]",
   "language": "python",
   "name": "python3"
  },
  "language_info": {
   "codemirror_mode": {
    "name": "ipython",
    "version": 3
   },
   "file_extension": ".py",
   "mimetype": "text/x-python",
   "name": "python",
   "nbconvert_exporter": "python",
   "pygments_lexer": "ipython3",
   "version": "3.6.4"
  }
 },
 "nbformat": 4,
 "nbformat_minor": 2
}
