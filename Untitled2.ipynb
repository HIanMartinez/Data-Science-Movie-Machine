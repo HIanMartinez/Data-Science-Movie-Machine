{
 "cells": [
  {
   "cell_type": "code",
   "execution_count": 1,
   "metadata": {},
   "outputs": [],
   "source": [
    "import pandas as pd\n",
    "import json\n",
    "import urllib\n",
    "import requests\n",
    "from pandas.io.json import json_normalize\n",
    "import re\n",
    "%matplotlib inline\n",
    "\n",
    "from key import key"
   ]
  },
  {
   "cell_type": "code",
   "execution_count": 2,
   "metadata": {},
   "outputs": [
    {
     "name": "stderr",
     "output_type": "stream",
     "text": [
      "/anaconda3/lib/python3.6/site-packages/numpy/lib/arraysetops.py:463: FutureWarning: elementwise comparison failed; returning scalar instead, but in the future will perform elementwise comparison\n",
      "  mask |= (ar1 == a)\n"
     ]
    }
   ],
   "source": [
    "imdb_df = pd.read_csv('./imdb_compiled.csv', index_col='Unnamed: 0')"
   ]
  },
  {
   "cell_type": "code",
   "execution_count": 15,
   "metadata": {},
   "outputs": [
    {
     "data": {
      "text/plain": [
       "0          tt0000001\n",
       "1          tt0000001\n",
       "2          tt0000001\n",
       "3          tt0000002\n",
       "4          tt0000002\n",
       "5          tt0000003\n",
       "6          tt0000003\n",
       "7          tt0000003\n",
       "8          tt0000003\n",
       "9          tt0000004\n",
       "10         tt0000004\n",
       "11         tt0000005\n",
       "12         tt0000005\n",
       "13         tt0000005\n",
       "14         tt0000006\n",
       "15         tt0000007\n",
       "16         tt0000007\n",
       "17         tt0000007\n",
       "18         tt0000007\n",
       "19         tt0000008\n",
       "20         tt0000008\n",
       "21         tt0000008\n",
       "22         tt0000009\n",
       "23         tt0000009\n",
       "24         tt0000009\n",
       "25         tt0000009\n",
       "26         tt0000010\n",
       "27         tt0000011\n",
       "28         tt0000011\n",
       "29         tt0000012\n",
       "             ...    \n",
       "6846002    tt8101750\n",
       "6846003    tt8101750\n",
       "6846004    tt8101750\n",
       "6846005    tt8101750\n",
       "6846006    tt8101750\n",
       "6846007    tt8104560\n",
       "6846008    tt8104560\n",
       "6846009    tt8104560\n",
       "6846010    tt8104560\n",
       "6846011    tt8104560\n",
       "6846012    tt8104560\n",
       "6846013    tt8104560\n",
       "6846014    tt8104560\n",
       "6846015    tt8104560\n",
       "6846016    tt8104940\n",
       "6846017    tt8104940\n",
       "6846018    tt8104940\n",
       "6846019    tt8104940\n",
       "6846020    tt8104940\n",
       "6846021    tt8105202\n",
       "6846022    tt8105202\n",
       "6846023    tt8105202\n",
       "6846024    tt8105202\n",
       "6846025    tt8105610\n",
       "6846026    tt8105610\n",
       "6846027    tt8105610\n",
       "6846028    tt8105610\n",
       "6846029    tt8105610\n",
       "6846030    tt8106994\n",
       "6846031    tt8106994\n",
       "Name: tconst, Length: 6846032, dtype: object"
      ]
     },
     "execution_count": 15,
     "metadata": {},
     "output_type": "execute_result"
    }
   ],
   "source": [
    "imdb_df['tconst']"
   ]
  },
  {
   "cell_type": "code",
   "execution_count": null,
   "metadata": {},
   "outputs": [],
   "source": []
  }
 ],
 "metadata": {
  "kernelspec": {
   "display_name": "Python [default]",
   "language": "python",
   "name": "python3"
  },
  "language_info": {
   "codemirror_mode": {
    "name": "ipython",
    "version": 3
   },
   "file_extension": ".py",
   "mimetype": "text/x-python",
   "name": "python",
   "nbconvert_exporter": "python",
   "pygments_lexer": "ipython3",
   "version": "3.6.4"
  }
 },
 "nbformat": 4,
 "nbformat_minor": 2
}
