{
 "cells": [
  {
   "cell_type": "code",
   "execution_count": 15,
   "metadata": {},
   "outputs": [],
   "source": [
    "import pandas as pd\n",
    "import numpy as np\n",
    "import random\n",
    "import matplotlib.pyplot as plt\n",
    "from sklearn.model_selection import train_test_split, cross_val_score, cross_val_predict\n",
    "from sklearn.linear_model import LinearRegression\n",
    "from sklearn.ensemble import RandomForestRegressor\n",
    "import seaborn as sns\n",
    "\n",
    "%matplotlib inline\n",
    "\n",
    "random.seed(1016)"
   ]
  },
  {
   "cell_type": "code",
   "execution_count": 4,
   "metadata": {},
   "outputs": [
    {
     "data": {
      "text/html": [
       "<div>\n",
       "<style scoped>\n",
       "    .dataframe tbody tr th:only-of-type {\n",
       "        vertical-align: middle;\n",
       "    }\n",
       "\n",
       "    .dataframe tbody tr th {\n",
       "        vertical-align: top;\n",
       "    }\n",
       "\n",
       "    .dataframe thead th {\n",
       "        text-align: right;\n",
       "    }\n",
       "</style>\n",
       "<table border=\"1\" class=\"dataframe\">\n",
       "  <thead>\n",
       "    <tr style=\"text-align: right;\">\n",
       "      <th></th>\n",
       "      <th>Actors</th>\n",
       "      <th>Awards</th>\n",
       "      <th>Box Office ($)</th>\n",
       "      <th>Country</th>\n",
       "      <th>Director</th>\n",
       "      <th>Genre</th>\n",
       "      <th>Language</th>\n",
       "      <th>MPAA Rating</th>\n",
       "      <th>Metacritic Score</th>\n",
       "      <th>Movie Title</th>\n",
       "      <th>...</th>\n",
       "      <th>Ziad Doueiri</th>\n",
       "      <th>Zoe Lister-Jones.1</th>\n",
       "      <th>Zoe R. Cassavetes</th>\n",
       "      <th>Zoltan Deme</th>\n",
       "      <th>Zoltan Spirandelli</th>\n",
       "      <th>Zoya Akhtar</th>\n",
       "      <th>Álex de la Iglesia</th>\n",
       "      <th>Élie Chouraqui</th>\n",
       "      <th>Émile Gaudreault</th>\n",
       "      <th>Éric Rohmer</th>\n",
       "    </tr>\n",
       "  </thead>\n",
       "  <tbody>\n",
       "    <tr>\n",
       "      <th>0</th>\n",
       "      <td>['Rosanna Arquette', 'Madonna', 'Aidan Quinn',...</td>\n",
       "      <td>Nominated for 1 Golden Globe. Another 1 win &amp; ...</td>\n",
       "      <td>27400000</td>\n",
       "      <td>USA</td>\n",
       "      <td>Susan Seidelman</td>\n",
       "      <td>['Comedy', 'Drama']</td>\n",
       "      <td>English</td>\n",
       "      <td>PG-13</td>\n",
       "      <td>71.0</td>\n",
       "      <td>Desperately Seeking Susan</td>\n",
       "      <td>...</td>\n",
       "      <td>0.0</td>\n",
       "      <td>0.0</td>\n",
       "      <td>0.0</td>\n",
       "      <td>0.0</td>\n",
       "      <td>0.0</td>\n",
       "      <td>0.0</td>\n",
       "      <td>0.0</td>\n",
       "      <td>0.0</td>\n",
       "      <td>0.0</td>\n",
       "      <td>0.0</td>\n",
       "    </tr>\n",
       "    <tr>\n",
       "      <th>1</th>\n",
       "      <td>['Jackie Chan', 'Danny Aiello', 'Sandy Alexand...</td>\n",
       "      <td>NaN</td>\n",
       "      <td>829000</td>\n",
       "      <td>Hong Kong, USA</td>\n",
       "      <td>James Glickenhaus</td>\n",
       "      <td>['Action', 'Crime', 'Thriller']</td>\n",
       "      <td>English, Cantonese</td>\n",
       "      <td>R</td>\n",
       "      <td>NaN</td>\n",
       "      <td>The Protector</td>\n",
       "      <td>...</td>\n",
       "      <td>0.0</td>\n",
       "      <td>0.0</td>\n",
       "      <td>0.0</td>\n",
       "      <td>0.0</td>\n",
       "      <td>0.0</td>\n",
       "      <td>0.0</td>\n",
       "      <td>0.0</td>\n",
       "      <td>0.0</td>\n",
       "      <td>0.0</td>\n",
       "      <td>0.0</td>\n",
       "    </tr>\n",
       "    <tr>\n",
       "      <th>2</th>\n",
       "      <td>['Simon Srebnik', 'Michael Podchlebnik', 'Motk...</td>\n",
       "      <td>14 wins.</td>\n",
       "      <td>15642</td>\n",
       "      <td>France, UK</td>\n",
       "      <td>Claude Lanzmann</td>\n",
       "      <td>['Documentary', 'History', 'War']</td>\n",
       "      <td>German, Hebrew, Polish, Yiddish, French</td>\n",
       "      <td>NOT RATED</td>\n",
       "      <td>99.0</td>\n",
       "      <td>Shoah</td>\n",
       "      <td>...</td>\n",
       "      <td>0.0</td>\n",
       "      <td>0.0</td>\n",
       "      <td>0.0</td>\n",
       "      <td>0.0</td>\n",
       "      <td>0.0</td>\n",
       "      <td>0.0</td>\n",
       "      <td>0.0</td>\n",
       "      <td>0.0</td>\n",
       "      <td>0.0</td>\n",
       "      <td>0.0</td>\n",
       "    </tr>\n",
       "    <tr>\n",
       "      <th>3</th>\n",
       "      <td>['Kevin Kline', 'Scott Glenn', 'Kevin Costner'...</td>\n",
       "      <td>Nominated for 2 Oscars. Another 1 win &amp; 2 nomi...</td>\n",
       "      <td>33200000</td>\n",
       "      <td>USA</td>\n",
       "      <td>Lawrence Kasdan</td>\n",
       "      <td>['Action', 'Crime', 'Drama']</td>\n",
       "      <td>English</td>\n",
       "      <td>PG-13</td>\n",
       "      <td>64.0</td>\n",
       "      <td>Silverado</td>\n",
       "      <td>...</td>\n",
       "      <td>0.0</td>\n",
       "      <td>0.0</td>\n",
       "      <td>0.0</td>\n",
       "      <td>0.0</td>\n",
       "      <td>0.0</td>\n",
       "      <td>0.0</td>\n",
       "      <td>0.0</td>\n",
       "      <td>0.0</td>\n",
       "      <td>0.0</td>\n",
       "      <td>0.0</td>\n",
       "    </tr>\n",
       "    <tr>\n",
       "      <th>4</th>\n",
       "      <td>['Jeff Bridges', 'Rosanna Arquette', 'Alexandr...</td>\n",
       "      <td>1 nomination.</td>\n",
       "      <td>1305114</td>\n",
       "      <td>USA</td>\n",
       "      <td>Hal Ashby</td>\n",
       "      <td>['Action', 'Crime', 'Drama']</td>\n",
       "      <td>English, Spanish</td>\n",
       "      <td>R</td>\n",
       "      <td>NaN</td>\n",
       "      <td>8 Million Ways to Die</td>\n",
       "      <td>...</td>\n",
       "      <td>0.0</td>\n",
       "      <td>0.0</td>\n",
       "      <td>0.0</td>\n",
       "      <td>0.0</td>\n",
       "      <td>0.0</td>\n",
       "      <td>0.0</td>\n",
       "      <td>0.0</td>\n",
       "      <td>0.0</td>\n",
       "      <td>0.0</td>\n",
       "      <td>0.0</td>\n",
       "    </tr>\n",
       "  </tbody>\n",
       "</table>\n",
       "<p>5 rows × 17912 columns</p>\n",
       "</div>"
      ],
      "text/plain": [
       "                                              Actors  \\\n",
       "0  ['Rosanna Arquette', 'Madonna', 'Aidan Quinn',...   \n",
       "1  ['Jackie Chan', 'Danny Aiello', 'Sandy Alexand...   \n",
       "2  ['Simon Srebnik', 'Michael Podchlebnik', 'Motk...   \n",
       "3  ['Kevin Kline', 'Scott Glenn', 'Kevin Costner'...   \n",
       "4  ['Jeff Bridges', 'Rosanna Arquette', 'Alexandr...   \n",
       "\n",
       "                                              Awards  Box Office ($)  \\\n",
       "0  Nominated for 1 Golden Globe. Another 1 win & ...        27400000   \n",
       "1                                                NaN          829000   \n",
       "2                                           14 wins.           15642   \n",
       "3  Nominated for 2 Oscars. Another 1 win & 2 nomi...        33200000   \n",
       "4                                      1 nomination.         1305114   \n",
       "\n",
       "          Country           Director                              Genre  \\\n",
       "0             USA    Susan Seidelman                ['Comedy', 'Drama']   \n",
       "1  Hong Kong, USA  James Glickenhaus    ['Action', 'Crime', 'Thriller']   \n",
       "2      France, UK    Claude Lanzmann  ['Documentary', 'History', 'War']   \n",
       "3             USA    Lawrence Kasdan       ['Action', 'Crime', 'Drama']   \n",
       "4             USA          Hal Ashby       ['Action', 'Crime', 'Drama']   \n",
       "\n",
       "                                  Language MPAA Rating  Metacritic Score  \\\n",
       "0                                  English       PG-13              71.0   \n",
       "1                       English, Cantonese           R               NaN   \n",
       "2  German, Hebrew, Polish, Yiddish, French   NOT RATED              99.0   \n",
       "3                                  English       PG-13              64.0   \n",
       "4                         English, Spanish           R               NaN   \n",
       "\n",
       "                 Movie Title     ...      Ziad Doueiri Zoe Lister-Jones.1  \\\n",
       "0  Desperately Seeking Susan     ...               0.0                0.0   \n",
       "1              The Protector     ...               0.0                0.0   \n",
       "2                      Shoah     ...               0.0                0.0   \n",
       "3                  Silverado     ...               0.0                0.0   \n",
       "4      8 Million Ways to Die     ...               0.0                0.0   \n",
       "\n",
       "  Zoe R. Cassavetes  Zoltan Deme  Zoltan Spirandelli Zoya Akhtar  \\\n",
       "0               0.0          0.0                 0.0         0.0   \n",
       "1               0.0          0.0                 0.0         0.0   \n",
       "2               0.0          0.0                 0.0         0.0   \n",
       "3               0.0          0.0                 0.0         0.0   \n",
       "4               0.0          0.0                 0.0         0.0   \n",
       "\n",
       "   Álex de la Iglesia Élie Chouraqui  Émile Gaudreault  Éric Rohmer  \n",
       "0                 0.0            0.0               0.0          0.0  \n",
       "1                 0.0            0.0               0.0          0.0  \n",
       "2                 0.0            0.0               0.0          0.0  \n",
       "3                 0.0            0.0               0.0          0.0  \n",
       "4                 0.0            0.0               0.0          0.0  \n",
       "\n",
       "[5 rows x 17912 columns]"
      ]
     },
     "execution_count": 4,
     "metadata": {},
     "output_type": "execute_result"
    }
   ],
   "source": [
    "imdf = pd.read_csv('./imdf_full.csv', index_col=0)\n",
    "imdf.head()"
   ]
  },
  {
   "cell_type": "markdown",
   "metadata": {},
   "source": [
    "I'll be dropping all non-numeric columns for modeling. As well as observations with NaN values."
   ]
  },
  {
   "cell_type": "code",
   "execution_count": 5,
   "metadata": {},
   "outputs": [],
   "source": [
    "imdf = imdf.drop(['Actors','Metacritic Score','Rotten Tomatoes Score','imdb Score','imdb ID', 'Release Date', 'Awards', 'Director', 'Genre', 'Movie Title', 'Plot', 'Country', 'Language', 'MPAA Rating', 'Production Studio', 'Year of Release', 'Writer'], axis=1)"
   ]
  },
  {
   "cell_type": "code",
   "execution_count": 7,
   "metadata": {},
   "outputs": [],
   "source": [
    "imdf.dropna(inplace=True)"
   ]
  },
  {
   "cell_type": "markdown",
   "metadata": {},
   "source": [
    "Next up is dropping actors and directors that don't have a large portfolio to reduce the number of features."
   ]
  },
  {
   "cell_type": "code",
   "execution_count": 6,
   "metadata": {},
   "outputs": [],
   "source": [
    "how_are_you_here = [col for col in imdf if imdf[col].sum() == 0]\n",
    "one_act = [col for col in imdf if imdf[col].sum() == 1]\n",
    "two_acts = [col for col in imdf if imdf[col].sum()==2]\n",
    "three_times_no_charm = [col for col in imdf if imdf[col].sum()==3]\n",
    "four_no_more = [col for col in imdf if imdf[col].sum()==4]"
   ]
  },
  {
   "cell_type": "code",
   "execution_count": 8,
   "metadata": {},
   "outputs": [],
   "source": [
    "imdf = imdf.drop(how_are_you_here, axis=1)\n",
    "imdf = imdf.drop(one_act, axis = 1)\n",
    "imdf = imdf.drop(two_acts, axis = 1)\n",
    "imdf = imdf.drop(three_times_no_charm, axis=1)\n",
    "imdf = imdf.drop(four_no_more, axis=1)"
   ]
  },
  {
   "cell_type": "markdown",
   "metadata": {},
   "source": [
    "Let's see what we're dealing with now that we've sifted out smaller portfolios as features in our data frame."
   ]
  },
  {
   "cell_type": "code",
   "execution_count": 9,
   "metadata": {},
   "outputs": [
    {
     "data": {
      "text/plain": [
       "(6261, 1146)"
      ]
     },
     "execution_count": 9,
     "metadata": {},
     "output_type": "execute_result"
    }
   ],
   "source": [
    "imdf.shape"
   ]
  },
  {
   "cell_type": "markdown",
   "metadata": {},
   "source": [
    "Let's set our target variable and independent variables."
   ]
  },
  {
   "cell_type": "code",
   "execution_count": 10,
   "metadata": {},
   "outputs": [],
   "source": [
    "y = imdf['Box Office ($)']\n",
    "X = imdf.drop('Box Office ($)', axis = 1)"
   ]
  },
  {
   "cell_type": "markdown",
   "metadata": {},
   "source": [
    "Train/Test split. Good practice for any predictive model."
   ]
  },
  {
   "cell_type": "code",
   "execution_count": 12,
   "metadata": {},
   "outputs": [],
   "source": [
    "X_train, X_test, y_train, y_test = train_test_split(X, y, test_size=0.8)"
   ]
  },
  {
   "cell_type": "code",
   "execution_count": 13,
   "metadata": {},
   "outputs": [
    {
     "data": {
      "text/plain": [
       "-1.2257232250208512e+17"
      ]
     },
     "execution_count": 13,
     "metadata": {},
     "output_type": "execute_result"
    }
   ],
   "source": [
    "lr = LinearRegression()\n",
    "lr.fit(X_train,y_train)\n",
    "lr.score(X_test, y_test)"
   ]
  },
  {
   "cell_type": "code",
   "execution_count": 16,
   "metadata": {},
   "outputs": [
    {
     "name": "stderr",
     "output_type": "stream",
     "text": [
      "/anaconda3/lib/python3.6/site-packages/matplotlib/axes/_axes.py:6462: UserWarning: The 'normed' kwarg is deprecated, and has been replaced by the 'density' kwarg.\n",
      "  warnings.warn(\"The 'normed' kwarg is deprecated, and has been \"\n"
     ]
    },
    {
     "data": {
      "text/plain": [
       "<seaborn.axisgrid.JointGrid at 0x1c1df6f9b0>"
      ]
     },
     "execution_count": 16,
     "metadata": {},
     "output_type": "execute_result"
    },
    {
     "data": {
      "image/png": "[encoded data removed]",
      "text/plain": [
       "<Figure size 432x432 with 3 Axes>"
      ]
     },
     "metadata": {},
     "output_type": "display_data"
    }
   ],
   "source": [
    "ypred = lr.predict(X_test)\n",
    "sns.jointplot(y_test, ypred)"
   ]
  },
  {
   "cell_type": "code",
   "execution_count": 14,
   "metadata": {},
   "outputs": [
    {
     "data": {
      "text/plain": [
       "0.2649743089596941"
      ]
     },
     "execution_count": 14,
     "metadata": {},
     "output_type": "execute_result"
    }
   ],
   "source": [
    "rf = RandomForestRegressor()\n",
    "rf.fit(X_train,y_train)\n",
    "rf.score(X_test,y_test)"
   ]
  },
  {
   "cell_type": "markdown",
   "metadata": {},
   "source": [
    "Okay, not the most exciting numbers, this is something we can definitely fine tune in the future. </br>\n",
    "Let's try predicting the box office returns on an entirely new, made-up horror movie starring Emma Stone and directed by Christopher Nolan."
   ]
  },
  {
   "cell_type": "code",
   "execution_count": 20,
   "metadata": {},
   "outputs": [
    {
     "data": {
      "text/html": [
       "<div>\n",
       "<style scoped>\n",
       "    .dataframe tbody tr th:only-of-type {\n",
       "        vertical-align: middle;\n",
       "    }\n",
       "\n",
       "    .dataframe tbody tr th {\n",
       "        vertical-align: top;\n",
       "    }\n",
       "\n",
       "    .dataframe thead th {\n",
       "        text-align: right;\n",
       "    }\n",
       "</style>\n",
       "<table border=\"1\" class=\"dataframe\">\n",
       "  <thead>\n",
       "    <tr style=\"text-align: right;\">\n",
       "      <th></th>\n",
       "      <th>Box Office ($)</th>\n",
       "      <th>Runtime</th>\n",
       "      <th>Action</th>\n",
       "      <th>Adult</th>\n",
       "      <th>Adventure</th>\n",
       "      <th>Animation</th>\n",
       "      <th>Biography</th>\n",
       "      <th>Comedy</th>\n",
       "      <th>Crime</th>\n",
       "      <th>Documentary</th>\n",
       "      <th>...</th>\n",
       "      <th>Todd Phillips</th>\n",
       "      <th>Todd Solondz</th>\n",
       "      <th>Tony Scott</th>\n",
       "      <th>Tyler Perry.1</th>\n",
       "      <th>Werner Herzog.1</th>\n",
       "      <th>Wes Anderson.1</th>\n",
       "      <th>Will Gluck</th>\n",
       "      <th>Woody Allen.1</th>\n",
       "      <th>Yimou Zhang</th>\n",
       "      <th>Zack Snyder</th>\n",
       "    </tr>\n",
       "  </thead>\n",
       "  <tbody>\n",
       "    <tr>\n",
       "      <th>0</th>\n",
       "      <td>0.0</td>\n",
       "      <td>0.0</td>\n",
       "      <td>0.0</td>\n",
       "      <td>0.0</td>\n",
       "      <td>0.0</td>\n",
       "      <td>0.0</td>\n",
       "      <td>0.0</td>\n",
       "      <td>0.0</td>\n",
       "      <td>0.0</td>\n",
       "      <td>0.0</td>\n",
       "      <td>...</td>\n",
       "      <td>0.0</td>\n",
       "      <td>0.0</td>\n",
       "      <td>0.0</td>\n",
       "      <td>0.0</td>\n",
       "      <td>0.0</td>\n",
       "      <td>0.0</td>\n",
       "      <td>0.0</td>\n",
       "      <td>0.0</td>\n",
       "      <td>0.0</td>\n",
       "      <td>0.0</td>\n",
       "    </tr>\n",
       "  </tbody>\n",
       "</table>\n",
       "<p>1 rows × 1146 columns</p>\n",
       "</div>"
      ],
      "text/plain": [
       "   Box Office ($)  Runtime  Action  Adult  Adventure  Animation  Biography  \\\n",
       "0             0.0      0.0     0.0    0.0        0.0        0.0        0.0   \n",
       "\n",
       "   Comedy  Crime  Documentary     ...       Todd Phillips  Todd Solondz  \\\n",
       "0     0.0    0.0          0.0     ...                 0.0           0.0   \n",
       "\n",
       "   Tony Scott  Tyler Perry.1  Werner Herzog.1  Wes Anderson.1  Will Gluck  \\\n",
       "0         0.0            0.0              0.0             0.0         0.0   \n",
       "\n",
       "   Woody Allen.1  Yimou Zhang  Zack Snyder  \n",
       "0            0.0          0.0          0.0  \n",
       "\n",
       "[1 rows x 1146 columns]"
      ]
     },
     "execution_count": 20,
     "metadata": {},
     "output_type": "execute_result"
    }
   ],
   "source": [
    "columns = imdf.columns\n",
    "new_df = pd.DataFrame(np.zeros(shape=(1,1146)), columns=columns)\n",
    "new_df"
   ]
  },
  {
   "cell_type": "code",
   "execution_count": 24,
   "metadata": {},
   "outputs": [],
   "source": [
    "new_df['Emma Stone'] = 1.0\n",
    "new_df['Horror'] = 1.0\n",
    "new_df['Christopher Nolan'] = 1.0"
   ]
  },
  {
   "cell_type": "code",
   "execution_count": 25,
   "metadata": {},
   "outputs": [
    {
     "data": {
      "text/plain": [
       "array([125.8246217])"
      ]
     },
     "execution_count": 25,
     "metadata": {},
     "output_type": "execute_result"
    }
   ],
   "source": [
    "rf.predict(new_df.drop('Box Office ($)', axis = 1))/1000000"
   ]
  },
  {
   "cell_type": "markdown",
   "metadata": {},
   "source": [
    "This suggests that the movie would rake in nearly $126M at the box office."
   ]
  }
 ],
 "metadata": {
  "kernelspec": {
   "display_name": "Python [default]",
   "language": "python",
   "name": "python3"
  },
  "language_info": {
   "codemirror_mode": {
    "name": "ipython",
    "version": 3
   },
   "file_extension": ".py",
   "mimetype": "text/x-python",
   "name": "python",
   "nbconvert_exporter": "python",
   "pygments_lexer": "ipython3",
   "version": "3.6.4"
  }
 },
 "nbformat": 4,
 "nbformat_minor": 2
}
