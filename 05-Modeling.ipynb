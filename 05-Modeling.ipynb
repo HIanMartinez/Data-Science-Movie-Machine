{
 "cells": [
  {
   "cell_type": "code",
   "execution_count": 1,
   "metadata": {},
   "outputs": [],
   "source": [
    "import pandas as pd\n",
    "import numpy as np\n",
    "import random\n",
    "import matplotlib.pyplot as plt\n",
    "from sklearn.model_selection import train_test_split, cross_val_score, cross_val_predict\n",
    "from sklearn.linear_model import LinearRegression\n",
    "from sklearn.ensemble import RandomForestRegressor\n",
    "import seaborn as sns\n",
    "\n",
    "%matplotlib inline"
   ]
  },
  {
   "cell_type": "code",
   "execution_count": 65,
   "metadata": {},
   "outputs": [
    {
     "data": {
      "text/html": [
       "<div>\n",
       "<style scoped>\n",
       "    .dataframe tbody tr th:only-of-type {\n",
       "        vertical-align: middle;\n",
       "    }\n",
       "\n",
       "    .dataframe tbody tr th {\n",
       "        vertical-align: top;\n",
       "    }\n",
       "\n",
       "    .dataframe thead th {\n",
       "        text-align: right;\n",
       "    }\n",
       "</style>\n",
       "<table border=\"1\" class=\"dataframe\">\n",
       "  <thead>\n",
       "    <tr style=\"text-align: right;\">\n",
       "      <th></th>\n",
       "      <th>Actors</th>\n",
       "      <th>Awards</th>\n",
       "      <th>Box Office ($)</th>\n",
       "      <th>Country</th>\n",
       "      <th>Director</th>\n",
       "      <th>Genre</th>\n",
       "      <th>Language</th>\n",
       "      <th>MPAA Rating</th>\n",
       "      <th>Metacritic Score</th>\n",
       "      <th>Movie Title</th>\n",
       "      <th>...</th>\n",
       "      <th>Ziad Doueiri</th>\n",
       "      <th>Zoe Lister-Jones.1</th>\n",
       "      <th>Zoe R. Cassavetes</th>\n",
       "      <th>Zoltan Deme</th>\n",
       "      <th>Zoltan Spirandelli</th>\n",
       "      <th>Zoya Akhtar</th>\n",
       "      <th>Álex de la Iglesia</th>\n",
       "      <th>Élie Chouraqui</th>\n",
       "      <th>Émile Gaudreault</th>\n",
       "      <th>Éric Rohmer</th>\n",
       "    </tr>\n",
       "  </thead>\n",
       "  <tbody>\n",
       "    <tr>\n",
       "      <th>0</th>\n",
       "      <td>['Rosanna Arquette', 'Madonna', 'Aidan Quinn',...</td>\n",
       "      <td>Nominated for 1 Golden Globe. Another 1 win &amp; ...</td>\n",
       "      <td>27400000</td>\n",
       "      <td>USA</td>\n",
       "      <td>Susan Seidelman</td>\n",
       "      <td>['Comedy', 'Drama']</td>\n",
       "      <td>English</td>\n",
       "      <td>PG-13</td>\n",
       "      <td>71.0</td>\n",
       "      <td>Desperately Seeking Susan</td>\n",
       "      <td>...</td>\n",
       "      <td>0.0</td>\n",
       "      <td>0.0</td>\n",
       "      <td>0.0</td>\n",
       "      <td>0.0</td>\n",
       "      <td>0.0</td>\n",
       "      <td>0.0</td>\n",
       "      <td>0.0</td>\n",
       "      <td>0.0</td>\n",
       "      <td>0.0</td>\n",
       "      <td>0.0</td>\n",
       "    </tr>\n",
       "    <tr>\n",
       "      <th>1</th>\n",
       "      <td>['Jackie Chan', 'Danny Aiello', 'Sandy Alexand...</td>\n",
       "      <td>NaN</td>\n",
       "      <td>829000</td>\n",
       "      <td>Hong Kong, USA</td>\n",
       "      <td>James Glickenhaus</td>\n",
       "      <td>['Action', 'Crime', 'Thriller']</td>\n",
       "      <td>English, Cantonese</td>\n",
       "      <td>R</td>\n",
       "      <td>NaN</td>\n",
       "      <td>The Protector</td>\n",
       "      <td>...</td>\n",
       "      <td>0.0</td>\n",
       "      <td>0.0</td>\n",
       "      <td>0.0</td>\n",
       "      <td>0.0</td>\n",
       "      <td>0.0</td>\n",
       "      <td>0.0</td>\n",
       "      <td>0.0</td>\n",
       "      <td>0.0</td>\n",
       "      <td>0.0</td>\n",
       "      <td>0.0</td>\n",
       "    </tr>\n",
       "    <tr>\n",
       "      <th>2</th>\n",
       "      <td>['Simon Srebnik', 'Michael Podchlebnik', 'Motk...</td>\n",
       "      <td>14 wins.</td>\n",
       "      <td>15642</td>\n",
       "      <td>France, UK</td>\n",
       "      <td>Claude Lanzmann</td>\n",
       "      <td>['Documentary', 'History', 'War']</td>\n",
       "      <td>German, Hebrew, Polish, Yiddish, French</td>\n",
       "      <td>NOT RATED</td>\n",
       "      <td>99.0</td>\n",
       "      <td>Shoah</td>\n",
       "      <td>...</td>\n",
       "      <td>0.0</td>\n",
       "      <td>0.0</td>\n",
       "      <td>0.0</td>\n",
       "      <td>0.0</td>\n",
       "      <td>0.0</td>\n",
       "      <td>0.0</td>\n",
       "      <td>0.0</td>\n",
       "      <td>0.0</td>\n",
       "      <td>0.0</td>\n",
       "      <td>0.0</td>\n",
       "    </tr>\n",
       "    <tr>\n",
       "      <th>3</th>\n",
       "      <td>['Kevin Kline', 'Scott Glenn', 'Kevin Costner'...</td>\n",
       "      <td>Nominated for 2 Oscars. Another 1 win &amp; 2 nomi...</td>\n",
       "      <td>33200000</td>\n",
       "      <td>USA</td>\n",
       "      <td>Lawrence Kasdan</td>\n",
       "      <td>['Action', 'Crime', 'Drama']</td>\n",
       "      <td>English</td>\n",
       "      <td>PG-13</td>\n",
       "      <td>64.0</td>\n",
       "      <td>Silverado</td>\n",
       "      <td>...</td>\n",
       "      <td>0.0</td>\n",
       "      <td>0.0</td>\n",
       "      <td>0.0</td>\n",
       "      <td>0.0</td>\n",
       "      <td>0.0</td>\n",
       "      <td>0.0</td>\n",
       "      <td>0.0</td>\n",
       "      <td>0.0</td>\n",
       "      <td>0.0</td>\n",
       "      <td>0.0</td>\n",
       "    </tr>\n",
       "    <tr>\n",
       "      <th>4</th>\n",
       "      <td>['Jeff Bridges', 'Rosanna Arquette', 'Alexandr...</td>\n",
       "      <td>1 nomination.</td>\n",
       "      <td>1305114</td>\n",
       "      <td>USA</td>\n",
       "      <td>Hal Ashby</td>\n",
       "      <td>['Action', 'Crime', 'Drama']</td>\n",
       "      <td>English, Spanish</td>\n",
       "      <td>R</td>\n",
       "      <td>NaN</td>\n",
       "      <td>8 Million Ways to Die</td>\n",
       "      <td>...</td>\n",
       "      <td>0.0</td>\n",
       "      <td>0.0</td>\n",
       "      <td>0.0</td>\n",
       "      <td>0.0</td>\n",
       "      <td>0.0</td>\n",
       "      <td>0.0</td>\n",
       "      <td>0.0</td>\n",
       "      <td>0.0</td>\n",
       "      <td>0.0</td>\n",
       "      <td>0.0</td>\n",
       "    </tr>\n",
       "  </tbody>\n",
       "</table>\n",
       "<p>5 rows × 17912 columns</p>\n",
       "</div>"
      ],
      "text/plain": [
       "                                              Actors  \\\n",
       "0  ['Rosanna Arquette', 'Madonna', 'Aidan Quinn',...   \n",
       "1  ['Jackie Chan', 'Danny Aiello', 'Sandy Alexand...   \n",
       "2  ['Simon Srebnik', 'Michael Podchlebnik', 'Motk...   \n",
       "3  ['Kevin Kline', 'Scott Glenn', 'Kevin Costner'...   \n",
       "4  ['Jeff Bridges', 'Rosanna Arquette', 'Alexandr...   \n",
       "\n",
       "                                              Awards  Box Office ($)  \\\n",
       "0  Nominated for 1 Golden Globe. Another 1 win & ...        27400000   \n",
       "1                                                NaN          829000   \n",
       "2                                           14 wins.           15642   \n",
       "3  Nominated for 2 Oscars. Another 1 win & 2 nomi...        33200000   \n",
       "4                                      1 nomination.         1305114   \n",
       "\n",
       "          Country           Director                              Genre  \\\n",
       "0             USA    Susan Seidelman                ['Comedy', 'Drama']   \n",
       "1  Hong Kong, USA  James Glickenhaus    ['Action', 'Crime', 'Thriller']   \n",
       "2      France, UK    Claude Lanzmann  ['Documentary', 'History', 'War']   \n",
       "3             USA    Lawrence Kasdan       ['Action', 'Crime', 'Drama']   \n",
       "4             USA          Hal Ashby       ['Action', 'Crime', 'Drama']   \n",
       "\n",
       "                                  Language MPAA Rating  Metacritic Score  \\\n",
       "0                                  English       PG-13              71.0   \n",
       "1                       English, Cantonese           R               NaN   \n",
       "2  German, Hebrew, Polish, Yiddish, French   NOT RATED              99.0   \n",
       "3                                  English       PG-13              64.0   \n",
       "4                         English, Spanish           R               NaN   \n",
       "\n",
       "                 Movie Title     ...      Ziad Doueiri Zoe Lister-Jones.1  \\\n",
       "0  Desperately Seeking Susan     ...               0.0                0.0   \n",
       "1              The Protector     ...               0.0                0.0   \n",
       "2                      Shoah     ...               0.0                0.0   \n",
       "3                  Silverado     ...               0.0                0.0   \n",
       "4      8 Million Ways to Die     ...               0.0                0.0   \n",
       "\n",
       "  Zoe R. Cassavetes  Zoltan Deme  Zoltan Spirandelli Zoya Akhtar  \\\n",
       "0               0.0          0.0                 0.0         0.0   \n",
       "1               0.0          0.0                 0.0         0.0   \n",
       "2               0.0          0.0                 0.0         0.0   \n",
       "3               0.0          0.0                 0.0         0.0   \n",
       "4               0.0          0.0                 0.0         0.0   \n",
       "\n",
       "   Álex de la Iglesia Élie Chouraqui  Émile Gaudreault  Éric Rohmer  \n",
       "0                 0.0            0.0               0.0          0.0  \n",
       "1                 0.0            0.0               0.0          0.0  \n",
       "2                 0.0            0.0               0.0          0.0  \n",
       "3                 0.0            0.0               0.0          0.0  \n",
       "4                 0.0            0.0               0.0          0.0  \n",
       "\n",
       "[5 rows x 17912 columns]"
      ]
     },
     "execution_count": 65,
     "metadata": {},
     "output_type": "execute_result"
    }
   ],
   "source": [
    "imdf = pd.read_csv('./imdf_full.csv', index_col=0)\n",
    "imdf.head()"
   ]
  },
  {
   "cell_type": "markdown",
   "metadata": {},
   "source": [
    "I'll be dropping all non-numeric columns for modeling. As well as observations with NaN values."
   ]
  },
  {
   "cell_type": "code",
   "execution_count": 3,
   "metadata": {},
   "outputs": [],
   "source": [
    "imdf1 = imdf.drop(['Actors','Metacritic Score','Rotten Tomatoes Score', 'imdb Score','imdb ID',\n",
    "                  'Release Date', 'Awards', 'Director', 'Genre', 'Movie Title', 'Plot',\n",
    "                  'Country','Language', 'MPAA Rating', 'Production Studio',\n",
    "                  'Year of Release', 'Writer'], axis=1)"
   ]
  },
  {
   "cell_type": "code",
   "execution_count": 4,
   "metadata": {},
   "outputs": [],
   "source": [
    "imdf1.dropna(inplace=True)"
   ]
  },
  {
   "cell_type": "markdown",
   "metadata": {},
   "source": [
    "Next up is dropping actors and directors that don't have a large portfolio to reduce the number of features."
   ]
  },
  {
   "cell_type": "code",
   "execution_count": 5,
   "metadata": {},
   "outputs": [],
   "source": [
    "how_are_you_here = [col for col in imdf1 if imdf1[col].sum() == 0]\n",
    "one_act = [col for col in imdf1 if imdf1[col].sum() == 1]\n",
    "two_acts = [col for col in imdf1 if imdf1[col].sum()==2]\n",
    "three_times_no_charm = [col for col in imdf1 if imdf1[col].sum()==3]\n",
    "four_no_more = [col for col in imdf1 if imdf1[col].sum()==4]\n",
    "five_dont_thrive = [col for col in imdf1 if imdf1[col].sum()==5]"
   ]
  },
  {
   "cell_type": "code",
   "execution_count": 6,
   "metadata": {},
   "outputs": [],
   "source": [
    "imdf1 = imdf1.drop(how_are_you_here, axis=1)\n",
    "imdf1 = imdf1.drop(one_act, axis = 1)\n",
    "imdf1 = imdf1.drop(two_acts, axis = 1)\n",
    "imdf1 = imdf1.drop(three_times_no_charm, axis=1)\n",
    "imdf1 = imdf1.drop(four_no_more, axis=1)\n",
    "imdf1 = imdf1.drop(five_dont_thrive, axis=1)"
   ]
  },
  {
   "cell_type": "markdown",
   "metadata": {},
   "source": [
    "Let's see what we're dealing with now that we've sifted out smaller portfolios as features in our data frame."
   ]
  },
  {
   "cell_type": "code",
   "execution_count": 7,
   "metadata": {},
   "outputs": [
    {
     "data": {
      "text/plain": [
       "(6261, 860)"
      ]
     },
     "execution_count": 7,
     "metadata": {},
     "output_type": "execute_result"
    }
   ],
   "source": [
    "imdf1.shape"
   ]
  },
  {
   "cell_type": "markdown",
   "metadata": {},
   "source": [
    "### Modeling Box Office"
   ]
  },
  {
   "cell_type": "markdown",
   "metadata": {},
   "source": [
    "Let's set our target variable and independent variables."
   ]
  },
  {
   "cell_type": "code",
   "execution_count": 8,
   "metadata": {},
   "outputs": [],
   "source": [
    "y1 = imdf1['Box Office ($)']\n",
    "X1 = imdf1.drop('Box Office ($)', axis = 1)"
   ]
  },
  {
   "cell_type": "markdown",
   "metadata": {},
   "source": [
    "Train/Test split. Good practice for any predictive model."
   ]
  },
  {
   "cell_type": "code",
   "execution_count": 9,
   "metadata": {},
   "outputs": [],
   "source": [
    "X1_train, X1_test, y1_train, y1_test = train_test_split(X1, y1, test_size=0.8, random_state=1016)"
   ]
  },
  {
   "cell_type": "code",
   "execution_count": 10,
   "metadata": {},
   "outputs": [
    {
     "data": {
      "text/plain": [
       "-3.345813868564926e+19"
      ]
     },
     "execution_count": 10,
     "metadata": {},
     "output_type": "execute_result"
    }
   ],
   "source": [
    "lr = LinearRegression()\n",
    "lr.fit(X1_train,y1_train)\n",
    "lr.score(X1_test, y1_test)"
   ]
  },
  {
   "cell_type": "code",
   "execution_count": 11,
   "metadata": {},
   "outputs": [
    {
     "name": "stderr",
     "output_type": "stream",
     "text": [
      "/anaconda3/lib/python3.6/site-packages/matplotlib/axes/_axes.py:6462: UserWarning: The 'normed' kwarg is deprecated, and has been replaced by the 'density' kwarg.\n",
      "  warnings.warn(\"The 'normed' kwarg is deprecated, and has been \"\n"
     ]
    },
    {
     "data": {
      "text/plain": [
       "<seaborn.axisgrid.JointGrid at 0x1a1c71e048>"
      ]
     },
     "execution_count": 11,
     "metadata": {},
     "output_type": "execute_result"
    },
    {
     "data": {
      "image/png": "[encoded data removed]",
      "text/plain": [
       "<Figure size 432x432 with 3 Axes>"
      ]
     },
     "metadata": {},
     "output_type": "display_data"
    }
   ],
   "source": [
    "ypred1 = lr.predict(X1_test)\n",
    "sns.jointplot(y1_test, ypred1)"
   ]
  },
  {
   "cell_type": "code",
   "execution_count": 13,
   "metadata": {},
   "outputs": [
    {
     "data": {
      "text/plain": [
       "0.3328839193759766"
      ]
     },
     "execution_count": 13,
     "metadata": {},
     "output_type": "execute_result"
    }
   ],
   "source": [
    "rf = RandomForestRegressor(random_state=1016)\n",
    "rf.fit(X1_train,y1_train)\n",
    "rf.score(X1_test,y1_test)"
   ]
  },
  {
   "cell_type": "markdown",
   "metadata": {},
   "source": [
    "Okay, not the most exciting numbers, this is something we can definitely fine tune in the future. </br>\n",
    "Let's try predicting the box office returns on an entirely new, made-up horror movie starring Emma Stone and directed by Christopher Nolan."
   ]
  },
  {
   "cell_type": "code",
   "execution_count": 14,
   "metadata": {},
   "outputs": [
    {
     "data": {
      "text/html": [
       "<div>\n",
       "<style scoped>\n",
       "    .dataframe tbody tr th:only-of-type {\n",
       "        vertical-align: middle;\n",
       "    }\n",
       "\n",
       "    .dataframe tbody tr th {\n",
       "        vertical-align: top;\n",
       "    }\n",
       "\n",
       "    .dataframe thead th {\n",
       "        text-align: right;\n",
       "    }\n",
       "</style>\n",
       "<table border=\"1\" class=\"dataframe\">\n",
       "  <thead>\n",
       "    <tr style=\"text-align: right;\">\n",
       "      <th></th>\n",
       "      <th>Box Office ($)</th>\n",
       "      <th>Runtime</th>\n",
       "      <th>Action</th>\n",
       "      <th>Adventure</th>\n",
       "      <th>Animation</th>\n",
       "      <th>Biography</th>\n",
       "      <th>Comedy</th>\n",
       "      <th>Crime</th>\n",
       "      <th>Documentary</th>\n",
       "      <th>Drama</th>\n",
       "      <th>...</th>\n",
       "      <th>Steven Soderbergh</th>\n",
       "      <th>Steven Spielberg</th>\n",
       "      <th>Susanne Bier</th>\n",
       "      <th>Tim Burton</th>\n",
       "      <th>Todd Phillips</th>\n",
       "      <th>Tyler Perry.1</th>\n",
       "      <th>Werner Herzog.1</th>\n",
       "      <th>Woody Allen.1</th>\n",
       "      <th>Yimou Zhang</th>\n",
       "      <th>Zack Snyder</th>\n",
       "    </tr>\n",
       "  </thead>\n",
       "  <tbody>\n",
       "    <tr>\n",
       "      <th>0</th>\n",
       "      <td>0.0</td>\n",
       "      <td>0.0</td>\n",
       "      <td>0.0</td>\n",
       "      <td>0.0</td>\n",
       "      <td>0.0</td>\n",
       "      <td>0.0</td>\n",
       "      <td>0.0</td>\n",
       "      <td>0.0</td>\n",
       "      <td>0.0</td>\n",
       "      <td>0.0</td>\n",
       "      <td>...</td>\n",
       "      <td>0.0</td>\n",
       "      <td>0.0</td>\n",
       "      <td>0.0</td>\n",
       "      <td>0.0</td>\n",
       "      <td>0.0</td>\n",
       "      <td>0.0</td>\n",
       "      <td>0.0</td>\n",
       "      <td>0.0</td>\n",
       "      <td>0.0</td>\n",
       "      <td>0.0</td>\n",
       "    </tr>\n",
       "  </tbody>\n",
       "</table>\n",
       "<p>1 rows × 860 columns</p>\n",
       "</div>"
      ],
      "text/plain": [
       "   Box Office ($)  Runtime  Action  Adventure  Animation  Biography  Comedy  \\\n",
       "0             0.0      0.0     0.0        0.0        0.0        0.0     0.0   \n",
       "\n",
       "   Crime  Documentary  Drama     ...       Steven Soderbergh  \\\n",
       "0    0.0          0.0    0.0     ...                     0.0   \n",
       "\n",
       "   Steven Spielberg  Susanne Bier  Tim Burton  Todd Phillips  Tyler Perry.1  \\\n",
       "0               0.0           0.0         0.0            0.0            0.0   \n",
       "\n",
       "   Werner Herzog.1  Woody Allen.1  Yimou Zhang  Zack Snyder  \n",
       "0              0.0            0.0          0.0          0.0  \n",
       "\n",
       "[1 rows x 860 columns]"
      ]
     },
     "execution_count": 14,
     "metadata": {},
     "output_type": "execute_result"
    }
   ],
   "source": [
    "columns = imdf1.columns\n",
    "new_df1 = pd.DataFrame(np.zeros(shape=(1,860)), columns=columns)\n",
    "new_df1"
   ]
  },
  {
   "cell_type": "code",
   "execution_count": 15,
   "metadata": {},
   "outputs": [],
   "source": [
    "new_df1['Emma Stone'] = 1.0\n",
    "new_df1['Horror'] = 1.0\n",
    "new_df1['Christopher Nolan'] = 1.0"
   ]
  },
  {
   "cell_type": "code",
   "execution_count": 22,
   "metadata": {},
   "outputs": [
    {
     "data": {
      "text/plain": [
       "array([19.7893695])"
      ]
     },
     "execution_count": 22,
     "metadata": {},
     "output_type": "execute_result"
    }
   ],
   "source": [
    "rf.predict(new_df1.drop('Box Office ($)', axis = 1))/1000000"
   ]
  },
  {
   "cell_type": "code",
   "execution_count": 16,
   "metadata": {},
   "outputs": [],
   "source": [
    "result1 = rf.predict(new_df1.drop('Box Office ($)', axis = 1))/1000000"
   ]
  },
  {
   "cell_type": "code",
   "execution_count": 18,
   "metadata": {},
   "outputs": [],
   "source": [
    "result1 = str(result1)\n",
    "result1 = result1.replace('[', '')\n",
    "result1 = result1.replace(']', '')"
   ]
  },
  {
   "cell_type": "code",
   "execution_count": 19,
   "metadata": {},
   "outputs": [
    {
     "data": {
      "text/plain": [
       "'19.7893695'"
      ]
     },
     "execution_count": 19,
     "metadata": {},
     "output_type": "execute_result"
    }
   ],
   "source": [
    "result1"
   ]
  },
  {
   "cell_type": "code",
   "execution_count": 24,
   "metadata": {},
   "outputs": [
    {
     "name": "stdout",
     "output_type": "stream",
     "text": [
      "Your film idea is predicted to return 19.7M dollars!\n"
     ]
    }
   ],
   "source": [
    "print(\"Your film idea is predicted to return \"+str(result1)[0:4]+\"M dollars!\")"
   ]
  },
  {
   "cell_type": "markdown",
   "metadata": {},
   "source": [
    "### Modeling Rotten Tomatoes"
   ]
  },
  {
   "cell_type": "code",
   "execution_count": 66,
   "metadata": {},
   "outputs": [],
   "source": [
    "imdf2 = imdf.drop(['Actors','Metacritic Score','Box Office ($)', 'imdb Score','imdb ID',\n",
    "                  'Release Date', 'Awards', 'Director', 'Genre', 'Movie Title', 'Plot',\n",
    "                  'Country','Language', 'MPAA Rating', 'Production Studio',\n",
    "                  'Year of Release', 'Writer'], axis=1)"
   ]
  },
  {
   "cell_type": "code",
   "execution_count": 67,
   "metadata": {},
   "outputs": [],
   "source": [
    "imdf2.dropna(inplace=True)"
   ]
  },
  {
   "cell_type": "code",
   "execution_count": 68,
   "metadata": {},
   "outputs": [],
   "source": [
    "imdf2 = imdf2.drop(how_are_you_here, axis=1)\n",
    "imdf2 = imdf2.drop(one_act, axis = 1)\n",
    "imdf2 = imdf2.drop(two_acts, axis = 1)\n",
    "imdf2 = imdf2.drop(three_times_no_charm, axis=1)\n",
    "imdf2 = imdf2.drop(four_no_more, axis=1)\n",
    "imdf2 = imdf2.drop(five_dont_thrive, axis=1)"
   ]
  },
  {
   "cell_type": "code",
   "execution_count": 69,
   "metadata": {},
   "outputs": [
    {
     "data": {
      "text/plain": [
       "(5839, 860)"
      ]
     },
     "execution_count": 69,
     "metadata": {},
     "output_type": "execute_result"
    }
   ],
   "source": [
    "imdf2.shape"
   ]
  },
  {
   "cell_type": "code",
   "execution_count": 71,
   "metadata": {},
   "outputs": [],
   "source": [
    "y2 = imdf2['Rotten Tomatoes Score']\n",
    "X2 = imdf2.drop('Rotten Tomatoes Score', axis = 1)"
   ]
  },
  {
   "cell_type": "code",
   "execution_count": 72,
   "metadata": {},
   "outputs": [],
   "source": [
    "X2_train, X2_test, y2_train, y2_test = train_test_split(X2, y2, test_size=0.8, random_state=1016)"
   ]
  },
  {
   "cell_type": "code",
   "execution_count": 73,
   "metadata": {},
   "outputs": [
    {
     "data": {
      "text/plain": [
       "-2.8842556941961216e+20"
      ]
     },
     "execution_count": 73,
     "metadata": {},
     "output_type": "execute_result"
    }
   ],
   "source": [
    "lr.fit(X2_train,y2_train)\n",
    "lr.score(X2_test, y2_test)"
   ]
  },
  {
   "cell_type": "code",
   "execution_count": 74,
   "metadata": {},
   "outputs": [
    {
     "name": "stderr",
     "output_type": "stream",
     "text": [
      "/anaconda3/lib/python3.6/site-packages/matplotlib/axes/_axes.py:6462: UserWarning: The 'normed' kwarg is deprecated, and has been replaced by the 'density' kwarg.\n",
      "  warnings.warn(\"The 'normed' kwarg is deprecated, and has been \"\n"
     ]
    },
    {
     "data": {
      "text/plain": [
       "<seaborn.axisgrid.JointGrid at 0x1ad939a978>"
      ]
     },
     "execution_count": 74,
     "metadata": {},
     "output_type": "execute_result"
    },
    {
     "data": {
      "image/png": "[encoded data removed]",
      "text/plain": [
       "<Figure size 432x432 with 3 Axes>"
      ]
     },
     "metadata": {},
     "output_type": "display_data"
    }
   ],
   "source": [
    "ypred2 = lr.predict(X2_test)\n",
    "sns.jointplot(y2_test, ypred2)"
   ]
  },
  {
   "cell_type": "code",
   "execution_count": 75,
   "metadata": {},
   "outputs": [
    {
     "data": {
      "text/plain": [
       "-0.03278754597949707"
      ]
     },
     "execution_count": 75,
     "metadata": {},
     "output_type": "execute_result"
    }
   ],
   "source": [
    "rf.fit(X2_train,y2_train)\n",
    "rf.score(X2_test,y2_test)"
   ]
  },
  {
   "cell_type": "code",
   "execution_count": 76,
   "metadata": {},
   "outputs": [
    {
     "data": {
      "text/html": [
       "<div>\n",
       "<style scoped>\n",
       "    .dataframe tbody tr th:only-of-type {\n",
       "        vertical-align: middle;\n",
       "    }\n",
       "\n",
       "    .dataframe tbody tr th {\n",
       "        vertical-align: top;\n",
       "    }\n",
       "\n",
       "    .dataframe thead th {\n",
       "        text-align: right;\n",
       "    }\n",
       "</style>\n",
       "<table border=\"1\" class=\"dataframe\">\n",
       "  <thead>\n",
       "    <tr style=\"text-align: right;\">\n",
       "      <th></th>\n",
       "      <th>Rotten Tomatoes Score</th>\n",
       "      <th>Runtime</th>\n",
       "      <th>Action</th>\n",
       "      <th>Adventure</th>\n",
       "      <th>Animation</th>\n",
       "      <th>Biography</th>\n",
       "      <th>Comedy</th>\n",
       "      <th>Crime</th>\n",
       "      <th>Documentary</th>\n",
       "      <th>Drama</th>\n",
       "      <th>...</th>\n",
       "      <th>Steven Soderbergh</th>\n",
       "      <th>Steven Spielberg</th>\n",
       "      <th>Susanne Bier</th>\n",
       "      <th>Tim Burton</th>\n",
       "      <th>Todd Phillips</th>\n",
       "      <th>Tyler Perry.1</th>\n",
       "      <th>Werner Herzog.1</th>\n",
       "      <th>Woody Allen.1</th>\n",
       "      <th>Yimou Zhang</th>\n",
       "      <th>Zack Snyder</th>\n",
       "    </tr>\n",
       "  </thead>\n",
       "  <tbody>\n",
       "    <tr>\n",
       "      <th>0</th>\n",
       "      <td>0.0</td>\n",
       "      <td>0.0</td>\n",
       "      <td>0.0</td>\n",
       "      <td>0.0</td>\n",
       "      <td>0.0</td>\n",
       "      <td>0.0</td>\n",
       "      <td>0.0</td>\n",
       "      <td>0.0</td>\n",
       "      <td>0.0</td>\n",
       "      <td>0.0</td>\n",
       "      <td>...</td>\n",
       "      <td>0.0</td>\n",
       "      <td>0.0</td>\n",
       "      <td>0.0</td>\n",
       "      <td>0.0</td>\n",
       "      <td>0.0</td>\n",
       "      <td>0.0</td>\n",
       "      <td>0.0</td>\n",
       "      <td>0.0</td>\n",
       "      <td>0.0</td>\n",
       "      <td>0.0</td>\n",
       "    </tr>\n",
       "  </tbody>\n",
       "</table>\n",
       "<p>1 rows × 860 columns</p>\n",
       "</div>"
      ],
      "text/plain": [
       "   Rotten Tomatoes Score  Runtime  Action  Adventure  Animation  Biography  \\\n",
       "0                    0.0      0.0     0.0        0.0        0.0        0.0   \n",
       "\n",
       "   Comedy  Crime  Documentary  Drama     ...       Steven Soderbergh  \\\n",
       "0     0.0    0.0          0.0    0.0     ...                     0.0   \n",
       "\n",
       "   Steven Spielberg  Susanne Bier  Tim Burton  Todd Phillips  Tyler Perry.1  \\\n",
       "0               0.0           0.0         0.0            0.0            0.0   \n",
       "\n",
       "   Werner Herzog.1  Woody Allen.1  Yimou Zhang  Zack Snyder  \n",
       "0              0.0            0.0          0.0          0.0  \n",
       "\n",
       "[1 rows x 860 columns]"
      ]
     },
     "execution_count": 76,
     "metadata": {},
     "output_type": "execute_result"
    }
   ],
   "source": [
    "columns = imdf2.columns\n",
    "new_df2 = pd.DataFrame(np.zeros(shape=(1,860)), columns=columns)\n",
    "new_df2"
   ]
  },
  {
   "cell_type": "code",
   "execution_count": 77,
   "metadata": {},
   "outputs": [],
   "source": [
    "new_df2['Emma Stone'] = 1.0\n",
    "new_df2['Horror'] = 1.0\n",
    "new_df2['Christopher Nolan'] = 1.0"
   ]
  },
  {
   "cell_type": "code",
   "execution_count": 80,
   "metadata": {},
   "outputs": [
    {
     "data": {
      "text/plain": [
       "array([49.5])"
      ]
     },
     "execution_count": 80,
     "metadata": {},
     "output_type": "execute_result"
    }
   ],
   "source": [
    "rf.predict(new_df2.drop('Rotten Tomatoes Score', axis = 1))"
   ]
  },
  {
   "cell_type": "code",
   "execution_count": 81,
   "metadata": {},
   "outputs": [],
   "source": [
    "result2 = rf.predict(new_df2.drop('Rotten Tomatoes Score', axis = 1))"
   ]
  },
  {
   "cell_type": "code",
   "execution_count": 83,
   "metadata": {},
   "outputs": [],
   "source": [
    "result2 = str(result2)\n",
    "result2 = result2.replace('[', '')\n",
    "result2 = result2.replace(']', '')"
   ]
  },
  {
   "cell_type": "code",
   "execution_count": 84,
   "metadata": {},
   "outputs": [
    {
     "data": {
      "text/plain": [
       "'49.5'"
      ]
     },
     "execution_count": 84,
     "metadata": {},
     "output_type": "execute_result"
    }
   ],
   "source": [
    "result2"
   ]
  },
  {
   "cell_type": "code",
   "execution_count": 85,
   "metadata": {},
   "outputs": [
    {
     "name": "stdout",
     "output_type": "stream",
     "text": [
      "Your film idea is predicted to score 49.5% on Rotten Tomatoes\n"
     ]
    }
   ],
   "source": [
    "print(\"Your film idea is predicted to score \"+str(result2)+\"% on Rotten Tomatoes\")"
   ]
  },
  {
   "cell_type": "markdown",
   "metadata": {},
   "source": [
    "It turns out that predicting Rotten Tomatoes scores isn't reliable with the data we have."
   ]
  }
 ],
 "metadata": {
  "kernelspec": {
   "display_name": "Python [default]",
   "language": "python",
   "name": "python3"
  },
  "language_info": {
   "codemirror_mode": {
    "name": "ipython",
    "version": 3
   },
   "file_extension": ".py",
   "mimetype": "text/x-python",
   "name": "python",
   "nbconvert_exporter": "python",
   "pygments_lexer": "ipython3",
   "version": "3.6.4"
  }
 },
 "nbformat": 4,
 "nbformat_minor": 2
}
